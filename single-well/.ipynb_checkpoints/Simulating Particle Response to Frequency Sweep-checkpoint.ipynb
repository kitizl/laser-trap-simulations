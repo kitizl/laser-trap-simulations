{
 "cells": [
  {
   "cell_type": "markdown",
   "metadata": {},
   "source": [
    "The goal here is to simulate the effects of the modulation of the intensity of the laser trap on the particle, where the frequency of the modulation changes linearly from some start value to some end value. We expect to see a kind of resonance at around $2\\Omega_0$, but who knows, honestly."
   ]
  },
  {
   "cell_type": "code",
   "execution_count": 1,
   "metadata": {},
   "outputs": [],
   "source": [
    "import os\n",
    "import argparse\n",
    "import sys\n",
    "import datetime\n",
    "import matplotlib.pyplot as plt\n",
    "from math import pi, sqrt, floor\n",
    "from helper import make_dir\n",
    "import time\n",
    "import numpy as np"
   ]
  },
  {
   "cell_type": "code",
   "execution_count": 2,
   "metadata": {},
   "outputs": [],
   "source": [
    "import driver"
   ]
  },
  {
   "cell_type": "code",
   "execution_count": 10,
   "metadata": {},
   "outputs": [],
   "source": [
    "params = driver.physicalize({'pressure':1000,'temperature':300, 'saving_freq':10, 'numTrials':100, 'resolution':50, 'max_time':10, 'label':'sweep', 'timestep':1e-6})"
   ]
  },
  {
   "cell_type": "code",
   "execution_count": null,
   "metadata": {},
   "outputs": [],
   "source": []
  },
  {
   "cell_type": "code",
   "execution_count": 11,
   "metadata": {},
   "outputs": [],
   "source": [
    "import simulation"
   ]
  },
  {
   "cell_type": "code",
   "execution_count": 12,
   "metadata": {},
   "outputs": [
    {
     "name": "stdout",
     "output_type": "stream",
     "text": [
      "Directory data_sweep already exists\n"
     ]
    }
   ],
   "source": [
    "max_time, mass, gamma, kBT, saving_freq, NUM_TRIALS, resolution, label, timestep = params\n",
    "\n",
    "DATA_DIR = \"data\"\n",
    "PLOT_DIR = \"plot\"\n",
    "\n",
    "\n",
    "if timestep is None:\n",
    "    timestep = 1e-3\n",
    "\n",
    "if label is None:\n",
    "    # if a label is not provided, then use default naming conventions\n",
    "    DATA_DIR += f\"_n{NUM_TRIALS}_{timestamp}\"\n",
    "    PLOT_DIR += f\"_n{NUM_TRIALS}_{timestamp}\"\n",
    "else:\n",
    "    # if a label is provided, then use label for directory naming\n",
    "    DATA_DIR += f\"_{label}\"\n",
    "    PLOT_DIR += f\"_{label}\"\n",
    "\n",
    "make_dir(DATA_DIR) # making the directory where the data will end up"
   ]
  },
  {
   "cell_type": "code",
   "execution_count": 13,
   "metadata": {},
   "outputs": [],
   "source": [
    "def sweep_stiffness(t, start_sweep, end_sweep, freq_increment, max_time):\n",
    "    # this is a linear sweep\n",
    "    # assuming up-down\n",
    "    # assuming increment time step is 1s\n",
    "    omega = start_sweep + (end_sweep - start_sweep)*floor(t)/max_time\n",
    "    return simulation.gieseler_stiffness()*np.sin(omega*t)*1e-3"
   ]
  },
  {
   "cell_type": "code",
   "execution_count": 14,
   "metadata": {},
   "outputs": [],
   "source": [
    "ts, xs, vs, ks, ps = simulation.trapSolver([lambda t: sweep_stiffness(t, 10e3, 300e3, 1, max_time)]+[mass,max_time, gamma, kBT], timestep, saving_freq)"
   ]
  },
  {
   "cell_type": "code",
   "execution_count": 16,
   "metadata": {},
   "outputs": [],
   "source": [
    "simulation.save_data([ts,xs,vs,ks,ps],DIR_NAME=DATA_DIR,file_index=0)"
   ]
  },
  {
   "cell_type": "code",
   "execution_count": 30,
   "metadata": {},
   "outputs": [
    {
     "data": {
      "text/plain": [
       "[<matplotlib.lines.Line2D at 0x26cb7b14c40>]"
      ]
     },
     "execution_count": 30,
     "metadata": {},
     "output_type": "execute_result"
    },
    {
     "data": {
      "image/png": "[encoded data removed]",
      "text/plain": [
       "<Figure size 432x288 with 1 Axes>"
      ]
     },
     "metadata": {
      "needs_background": "light"
     },
     "output_type": "display_data"
    }
   ],
   "source": [
    "%matplotlib inline\n",
    "plt.plot(ts[int(3e5):], xs[int(3e5):])\n"
   ]
  },
  {
   "cell_type": "code",
   "execution_count": 1,
   "metadata": {},
   "outputs": [],
   "source": [
    "import multiprocessing as mp\n",
    "import numpy as np\n",
    "import time"
   ]
  },
  {
   "cell_type": "code",
   "execution_count": 2,
   "metadata": {},
   "outputs": [],
   "source": [
    "pool = mp.Pool(8)\n"
   ]
  },
  {
   "cell_type": "code",
   "execution_count": 3,
   "metadata": {},
   "outputs": [],
   "source": [
    "def isPrime(n):\n",
    "    if n == 1:\n",
    "        return True\n",
    "    elif n==2:\n",
    "        return True\n",
    "    else:\n",
    "        for i in range(2,n):\n",
    "            if n%i==0:\n",
    "                return False\n",
    "    return True"
   ]
  },
  {
   "cell_type": "code",
   "execution_count": 4,
   "metadata": {},
   "outputs": [],
   "source": [
    "nums = np.arange(1,10000)"
   ]
  },
  {
   "cell_type": "code",
   "execution_count": 5,
   "metadata": {},
   "outputs": [
    {
     "name": "stdout",
     "output_type": "stream",
     "text": [
      "1230\n",
      "2.378971815109253\n"
     ]
    }
   ],
   "source": [
    "# brute force, no parallelization\n",
    "start = time.time()\n",
    "results = [isPrime(n) for n in nums]\n",
    "end = time.time()\n",
    "print(sum(results))\n",
    "print(end-start)"
   ]
  },
  {
   "cell_type": "code",
   "execution_count": null,
   "metadata": {},
   "outputs": [],
   "source": [
    "# parallelization\n",
    "\n",
    "def isPrime(n):\n",
    "    if n == 1:\n",
    "        return True\n",
    "    elif n==2:\n",
    "        return True\n",
    "    else:\n",
    "        for i in range(2,n):\n",
    "            if n%i==0:\n",
    "                return False\n",
    "    return True\n",
    "\n",
    "start = time.time()\n",
    "results = pool.map(isPrime, [n for n in nums] )\n",
    "pool.close()\n",
    "print(sum(results))\n",
    "print(end-start)"
   ]
  },
  {
   "cell_type": "code",
   "execution_count": 31,
   "metadata": {},
   "outputs": [],
   "source": [
    "# simulating the duffing thing with simple forward euler\n",
    "max_time = 10 #s\n",
    "\n",
    "def acceleration(x,v,h,m,gamma,omega0, omega_m, xi):\n",
    "    return random_force()/m - gamma*v - omega0**2 * x * (1 + np.cos(omega_m*t)) - omega0**2 * xi * x**3\n",
    "\n",
    "x = 0\n",
    "v = 0\n",
    "t = 0\n",
    "h = 1e-6\n",
    "\n",
    "\n",
    "for t < max_time:\n",
    "    a = acceleration(x,v,h,m,gamma,omega0,omega_m, xi)\n",
    "    x = x + h*v\n",
    "    v = v + h*a"
   ]
  },
  {
   "cell_type": "code",
   "execution_count": null,
   "metadata": {},
   "outputs": [],
   "source": []
  }
 ],
 "metadata": {
  "@webio": {
   "lastCommId": null,
   "lastKernelId": null
  },
  "kernelspec": {
   "display_name": "Python 3",
   "language": "python",
   "name": "python3"
  },
  "language_info": {
   "codemirror_mode": {
    "name": "ipython",
    "version": 3
   },
   "file_extension": ".py",
   "mimetype": "text/x-python",
   "name": "python",
   "nbconvert_exporter": "python",
   "pygments_lexer": "ipython3",
   "version": "3.8.3"
  }
 },
 "nbformat": 4,
 "nbformat_minor": 4
}
