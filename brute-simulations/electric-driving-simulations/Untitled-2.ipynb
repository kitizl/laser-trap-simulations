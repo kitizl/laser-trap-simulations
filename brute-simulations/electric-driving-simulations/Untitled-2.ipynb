{
 "cells": [
  {
   "cell_type": "markdown",
   "metadata": {},
   "source": [
    "# Simulating Polarization Dependence\n",
    "\n",
    "We have a 2-axis simulation over here, and we are going to \"rotate\" the x and y datasets till we get what we want. Let's see how this is going to work out."
   ]
  },
  {
   "cell_type": "code",
   "execution_count": 1,
   "metadata": {},
   "outputs": [],
   "source": [
    "import numpy as np\n",
    "import pandas as pd\n",
    "import matplotlib.pyplot as plt"
   ]
  },
  {
   "cell_type": "code",
   "execution_count": null,
   "metadata": {},
   "outputs": [],
   "source": [
    "data_dir = \"2d-data.csv\"\n",
    "dataset = pd.read_csv()"
   ]
  }
 ],
 "metadata": {
  "interpreter": {
   "hash": "ffdae1d157258dee00c424f9b8086bf703ae7a31ec06fa200dbc00eb398ce19c"
  },
  "kernelspec": {
   "display_name": "Python 3.8.3",
   "language": "python",
   "name": "python3"
  },
  "language_info": {
   "codemirror_mode": {
    "name": "ipython",
    "version": 3
   },
   "file_extension": ".py",
   "mimetype": "text/x-python",
   "name": "python",
   "nbconvert_exporter": "python",
   "pygments_lexer": "ipython3",
   "version": "3.8.3"
  },
  "orig_nbformat": 4
 },
 "nbformat": 4,
 "nbformat_minor": 2
}
