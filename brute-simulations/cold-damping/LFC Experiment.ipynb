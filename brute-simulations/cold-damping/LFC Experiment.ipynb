{
 "cells": [
  {
   "cell_type": "markdown",
   "metadata": {},
   "source": [
    "# LFC Experiment\n",
    "\n",
    "We have a C++ program at hand that can take in a number of parameters and run a simulation with some results (like what you would get in a lab). With this we can (hopefully) perform some sweeps and get a good idea of what to expect."
   ]
  },
  {
   "cell_type": "code",
   "execution_count": 4,
   "metadata": {},
   "outputs": [],
   "source": [
    "import numpy as np\n",
    "import pandas as pd\n",
    "import matplotlib.pyplot as plt\n",
    "import subprocess"
   ]
  },
  {
   "cell_type": "markdown",
   "metadata": {},
   "source": [
    "Parameters:\n",
    "1. Filename\n",
    "2. Charge in `e`\n",
    "3. Electric field in V/m\n",
    "4. Radius of particle in meters\n",
    "5. Pressure in mbar\n",
    "6. Frequency (f)\n",
    "7. Number of steps before saving (stick to 1.)"
   ]
  },
  {
   "cell_type": "code",
   "execution_count": 8,
   "metadata": {},
   "outputs": [],
   "source": [
    "# pressure check\n",
    "pressures = [1000]#,300,100,30,10,3,1]\n",
    "# fixing the frequency at 150 kHz\n",
    "\n",
    "for p in pressures:\n",
    "\tfilename = f\"pressure-lfc/{p}mbar.csv\"\n",
    "\tproc = subprocess.Popen([\"wsl\",\"./lfc\", filename, '-7', '1000', '71.5e-9', 'p', '150e3', '1'])\n",
    "\tproc.wait()"
   ]
  },
  {
   "cell_type": "code",
   "execution_count": null,
   "metadata": {},
   "outputs": [],
   "source": []
  }
 ],
 "metadata": {
  "interpreter": {
   "hash": "ffdae1d157258dee00c424f9b8086bf703ae7a31ec06fa200dbc00eb398ce19c"
  },
  "kernelspec": {
   "display_name": "Python 3.8.3",
   "language": "python",
   "name": "python3"
  },
  "language_info": {
   "codemirror_mode": {
    "name": "ipython",
    "version": 3
   },
   "file_extension": ".py",
   "mimetype": "text/x-python",
   "name": "python",
   "nbconvert_exporter": "python",
   "pygments_lexer": "ipython3",
   "version": "3.8.3"
  },
  "orig_nbformat": 4
 },
 "nbformat": 4,
 "nbformat_minor": 2
}
